{
 "cells": [
  {
   "cell_type": "code",
   "execution_count": 1,
   "metadata": {},
   "outputs": [],
   "source": [
    "import torch\n",
    "import torchvision\n",
    "import torchvision.transforms as transforms\n",
    "import torch.nn as nn\n",
    "import torch.nn.functional as F\n",
    "import torch.optim as optim\n",
    "import matplotlib.pyplot as plt\n",
    "import numpy as np"
   ]
  },
  {
   "cell_type": "code",
   "execution_count": 2,
   "metadata": {},
   "outputs": [
    {
     "name": "stdout",
     "output_type": "stream",
     "text": [
      "Files already downloaded and verified\n",
      "Files already downloaded and verified\n"
     ]
    }
   ],
   "source": [
    "# download and load the Cifar-10 dataset\n",
    "\n",
    "# what is the effect of normalizing?\n",
    "#transform = transforms.Compose([transforms.ToTensor(), \n",
    "#                               transforms.Normalize((0.5, 0.5, 0.5), (0.5, 0.5, 0.5))])\n",
    "transform = transforms.Compose([transforms.ToTensor()])\n",
    "\n",
    "train = torchvision.datasets.CIFAR10('./', train=True, download=True,\n",
    "                                    transform=transform)\n",
    "\n",
    "test = torchvision.datasets.CIFAR10('./', train=False, download=True,\n",
    "                                    transform=transform)\n",
    "\n",
    "trainset = torch.utils.data.DataLoader(train, batch_size=4, shuffle=True, num_workers=2)\n",
    "testset = torch.utils.data.DataLoader(test, batch_size=4, shuffle=False, num_workers=2)"
   ]
  },
  {
   "cell_type": "code",
   "execution_count": 3,
   "metadata": {},
   "outputs": [
    {
     "name": "stdout",
     "output_type": "stream",
     "text": [
      "['airplane', 'automobile', 'bird', 'cat', 'deer', 'dog', 'frog', 'horse', 'ship', 'truck']\n"
     ]
    }
   ],
   "source": [
    "# class labels\n",
    "# the labels are in b'' string format\n",
    "import pickle\n",
    "with open(\"cifar-10-batches-py/batches.meta\", \"rb\") as file:\n",
    "    classes = pickle.load(file, encoding=\"bytes\")[b\"label_names\"]\n",
    "classes = [str(cifar_class, \"utf-8\") for cifar_class in classes]\n",
    "print(classes)"
   ]
  },
  {
   "cell_type": "code",
   "execution_count": 4,
   "metadata": {},
   "outputs": [
    {
     "data": {
      "image/png": "[encoded data removed]",
      "text/plain": [
       "<Figure size 432x288 with 1 Axes>"
      ]
     },
     "metadata": {
      "needs_background": "light"
     },
     "output_type": "display_data"
    },
    {
     "name": "stdout",
     "output_type": "stream",
     "text": [
      "ship\n"
     ]
    }
   ],
   "source": [
    "# let's grab one image along with its label\n",
    "for data in trainset:\n",
    "    break\n",
    "# x: pixel values (tensor)\n",
    "# y: its label (tensor)\n",
    "x, y = data[0][3], data[1][3]\n",
    "\n",
    "plt.imshow(np.transpose(x.numpy(), (1, 2, 0)))\n",
    "plt.show()\n",
    "print(classes[y.item()])"
   ]
  },
  {
   "cell_type": "code",
   "execution_count": 5,
   "metadata": {},
   "outputs": [],
   "source": [
    "# neural network class\n",
    "class Cifar10Classifier(nn.Module):\n",
    "    \n",
    "    def __init__(self):\n",
    "        super().__init__()\n",
    "\n",
    "        # layers:\n",
    "        # first two layers are convolutional layers\n",
    "        self.conv1 = nn.Conv2d(3, 16, 3, 1, 1)\n",
    "        self.conv2 = nn.Conv2d(16, 32, 3, 1, 1)\n",
    "\n",
    "        self.pool = nn.MaxPool2d(2, 2)\n",
    "        \n",
    "        # after the convolutional layers we need to map back to\n",
    "        # linear layers (fully  connected layers) \n",
    "        self.fc1 = nn.Linear(32*8*8, 120)\n",
    "        self.fc2 = nn.Linear(120, 84)\n",
    "        self.fc3 = nn.Linear(84, 10)\n",
    "\n",
    "    # feed forward: input (image) ---> output (predicted class label)\n",
    "    def forward(self, X):\n",
    "        # 1. pass through conv layer\n",
    "        # 2. activation function (ReLU)\n",
    "        # 3. Max pooling over a (2, 2) window\n",
    "        X = self.pool(F.relu(self.conv1(X)))\n",
    "        X = self.pool(F.relu(self.conv2(X)))\n",
    "        \n",
    "        # flatten\n",
    "        X = X.view(-1, 32*8*8)\n",
    "        \n",
    "        # Fully connected layers with activation function\n",
    "        X = F.relu(self.fc1(X))\n",
    "        X = F.relu(self.fc2(X))\n",
    "        \n",
    "        # finally map to labels\n",
    "        X = self.fc3(X)\n",
    "        return X"
   ]
  },
  {
   "cell_type": "code",
   "execution_count": 6,
   "metadata": {},
   "outputs": [],
   "source": [
    "# Set path for saving the model weights\n",
    "PATH = \"./cifar_net.pth\""
   ]
  },
  {
   "cell_type": "code",
   "execution_count": null,
   "metadata": {},
   "outputs": [],
   "source": [
    "# Use CUDA GPU\n",
    "if torch.cuda.is_available():\n",
    "    device = torch.device(\"cuda:0\")\n",
    "    net = Cifar10Classifier().to(device)\n",
    "\n",
    "net = Cifar10Classifier()\n",
    "\n",
    "# loss function\n",
    "loss_function = nn.CrossEntropyLoss()\n",
    "# Optimizer used for backpropagation\n",
    "optimizer = optim.Adam(net.parameters(), lr=0.001)"
   ]
  },
  {
   "cell_type": "code",
   "execution_count": 7,
   "metadata": {},
   "outputs": [
    {
     "name": "stdout",
     "output_type": "stream",
     "text": [
      "[1, 2000] loss: 1.8331288377642632\n",
      "[1, 4000] loss: 1.490411402836442\n",
      "[1, 6000] loss: 1.3741659685224294\n",
      "[1, 8000] loss: 1.2932234476208686\n",
      "[1, 10000] loss: 1.235905463606119\n",
      "[1, 12000] loss: 1.1804459452927112\n",
      "Finished!\n"
     ]
    }
   ],
   "source": [
    "# Training!\n",
    "EPOCHS = 1\n",
    "for epoch in range(EPOCHS):\n",
    "    \n",
    "    running_loss = 0.0\n",
    "    for i, data in enumerate(trainset, 0):\n",
    "        # get the inputs; data is a list of [inputs, labels]\n",
    "        inputs, labels = data[0].to(device), data[1].to(device)\n",
    "        \n",
    "        # zero the parameter gradients\n",
    "        optimizer.zero_grad()\n",
    "        \n",
    "        # 1. forward; 2. backward; 3. optimize\n",
    "        outputs = net(inputs)\n",
    "        loss = loss_function(outputs, labels)\n",
    "        loss.backward()\n",
    "        optimizer.step()\n",
    "        \n",
    "        # print statistics\n",
    "        running_loss += loss.item()\n",
    "        if i % 2000 == 1999:\n",
    "            print(f\"[{epoch+1}, {i+1}] loss: {running_loss/2000}\")\n",
    "            running_loss = 0.0\n",
    "            \n",
    "print(\"Saving...\")\n",
    "# Saving the trained model\n",
    "torch.save(net.state_dict(), PATH)\n",
    "print(\"Finished!\")"
   ]
  },
  {
   "cell_type": "code",
   "execution_count": 8,
   "metadata": {},
   "outputs": [],
   "source": [
    "# Loading previously saved model\n",
    "net = Cifar10Classifier()\n",
    "\n",
    "if torch.cuda.is_available():\n",
    "    net.load_state_dict(torch.load(PATH))\n",
    "    net.to(device)\n",
    "else:\n",
    "    net.load_state_dict(torch.load(PATH, map_location=\"cpu\"))"
   ]
  },
  {
   "cell_type": "code",
   "execution_count": 9,
   "metadata": {},
   "outputs": [
    {
     "name": "stdout",
     "output_type": "stream",
     "text": [
      "Accuracy of the network: 59.56%\n",
      "correct: 5956\n",
      "total: 10000\n"
     ]
    }
   ],
   "source": [
    "# Test with test dataset\n",
    "correct = 0\n",
    "total = 0\n",
    "with torch.no_grad():\n",
    "    for data in testset:\n",
    "        if torch.cuda.is_available():\n",
    "            images, labels = data[0].to(device), data[1].to(device)\n",
    "        else:\n",
    "            images, labels = data\n",
    "        '''\n",
    "        plt.imshow(np.transpose(torch.Tensor.cpu(images[0]).numpy(), (1, 2, 0)))\n",
    "        plt.show()\n",
    "        print(classes[labels[0].item()])\n",
    "        '''\n",
    "        \n",
    "        outputs = net(images)\n",
    "        _, predicted = torch.max(outputs.data, 1)\n",
    "        \n",
    "        # print(classes[predicted[0].item()])\n",
    "        \n",
    "        total += labels.size(0)\n",
    "        correct += (predicted == labels).sum().item()\n",
    "        \n",
    "print(f\"Accuracy of the network: {100 * correct / total}%\")\n",
    "print(f\"correct: {correct}\")\n",
    "print(f\"total: {total}\")"
   ]
  },
  {
   "cell_type": "code",
   "execution_count": 10,
   "metadata": {},
   "outputs": [
    {
     "data": {
      "image/png": "[encoded data removed]",
      "text/plain": [
       "<Figure size 432x288 with 1 Axes>"
      ]
     },
     "metadata": {
      "needs_background": "light"
     },
     "output_type": "display_data"
    },
    {
     "name": "stdout",
     "output_type": "stream",
     "text": [
      "['cat', 'ship', 'ship', 'airplane']\n"
     ]
    }
   ],
   "source": [
    "dataiter = iter(testset)\n",
    "images, labels = dataiter.next()\n",
    "\n",
    "img = torchvision.utils.make_grid(images)\n",
    "npimg = img.numpy()\n",
    "plt.imshow(np.transpose(npimg, (1, 2, 0)))\n",
    "plt.show()\n",
    "\n",
    "print([classes[labels[j]] for j in range(4)])"
   ]
  },
  {
   "cell_type": "code",
   "execution_count": 12,
   "metadata": {},
   "outputs": [
    {
     "name": "stdout",
     "output_type": "stream",
     "text": [
      "['dog', 'ship', 'ship', 'ship']\n"
     ]
    }
   ],
   "source": [
    "if torch.cuda.is_available():\n",
    "    images.to(device)\n",
    "    \n",
    "outputs = net(images)\n",
    "_, predicted = torch.max(outputs, 1)\n",
    "print([classes[predicted[j]] for j in range(4)])"
   ]
  }
 ],
 "metadata": {
  "kernelspec": {
   "display_name": "Python 3",
   "language": "python",
   "name": "python3"
  },
  "language_info": {
   "codemirror_mode": {
    "name": "ipython",
    "version": 3
   },
   "file_extension": ".py",
   "mimetype": "text/x-python",
   "name": "python",
   "nbconvert_exporter": "python",
   "pygments_lexer": "ipython3",
   "version": "3.7.4"
  }
 },
 "nbformat": 4,
 "nbformat_minor": 4
}
